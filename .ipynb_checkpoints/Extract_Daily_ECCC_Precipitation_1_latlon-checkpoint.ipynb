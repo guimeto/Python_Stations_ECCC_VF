{
 "cells": [
  {
   "cell_type": "markdown",
   "metadata": {},
   "source": [
    "# Extraction des données quotidiennes de températures d'ECCC\n",
    "## Objectifs:\n",
    "\n",
    "L'objectif de ce produit est d'extraire les données quotidiennes de températures depuis le jeu de données homogénéisées de seconde génération d'Environnement et Changement Climatique Canada développé par Vincent and al. 2012\n",
    "\n",
    "Les données climatiques canadiennes ajustées et homogénéisées (DCCAH) ont été créées pour être utilisées dans les recherches climatiques en incluant les études des changements climatiques. Elles incluent un nombre d’ajustements aux données originales des stations pour traiter les sauts causés par les changements d’instruments et de procédures d’observations. Quelques fois les observations de plusieurs stations ont été combinées pour générer de longues séries temporelles.\n",
    "\n",
    "Les données quotidiennes homogénéisées des températures maximales, minimales et moyennes and les données quotidiennes ajustées des chutes de pluie, de neige et de précipitation totale sont disponibles au ftp://ccrp.tor.ec.gc.ca/pub/EC_data/AHCCD_daily/.\n",
    "\n",
    "Les observations originales du Service Météorologique de Canada sont disponibles sur http://climate.weather.gc.ca/historical_data/search_historic_data_f.html.\n",
    "\n",
    "Dans notre étude nous allons détecter la station la plus proche d'une latitude et longitude données: "
   ]
  },
  {
   "cell_type": "markdown",
   "metadata": {},
   "source": [
    "La fonction suivante, perment de filtrer les données de la liste de stations Adj_Precipitation_Stations.xls.\n",
    "En fonctions de critères lati loni yeari et yearf, le code va chercher les données de la station et ensuite nettoyer les données pour les formater quotidiennement. "
   ]
  },
  {
   "cell_type": "code",
   "execution_count": 96,
   "metadata": {},
   "outputs": [],
   "source": [
    "def get_closed_station_precip(lati, loni, yeari, yearf):\n",
    "    \n",
    "     import pandas as pd\n",
    "     import os \n",
    "     import calendar\n",
    "     import numpy as np\n",
    "     from datetime import date\n",
    "     \n",
    "     dataframe = pd.read_excel(\"K:/DATA/Donnees_Stations/2nd_generation_V2018/Adj_Precipitation_Stations.xls\", skiprows = range(0, 3))\n",
    "     dataframe_2 =  dataframe.loc[(dataframe[\"année déb.\"] <= yeari) & (dataframe[\"année fin.\"] >= yearf),:]\n",
    "     dataframe_2 = dataframe_2.reset_index(drop=True)\n",
    "     lats = dataframe_2['lat (deg)']\n",
    "     lons = dataframe_2['long (deg)']\n",
    "     dist_sq = (lats-lati)**2 + (lons-loni)**2 \n",
    "     # 1D index of minimum dist_sq element\n",
    "     minindex = dist_sq.idxmin() \n",
    "     print(dist_sq.idxmin())\n",
    "     stnid = dataframe_2.iloc[minindex]['stnid'] \n",
    "     df_station =  pd.DataFrame(dataframe_2.iloc[minindex]) \n",
    "     f1 = open('K:/DATA/Donnees_Stations/2nd_generation_V2018/Adj_Daily_Total_v2017/dt'+str(stnid).replace(' ', '')+'.txt', 'r')\n",
    "     f2 = open('./tmp.txt', 'w')\n",
    "    \n",
    "    ### nettoyage des données: Suppression des Caractères   \n",
    "     for line in f1:\n",
    "            for word in line:\n",
    "                if word == 'M':\n",
    "                    f2.write(word.replace('M', ' '))\n",
    "                elif word == 'a':\n",
    "                    f2.write(word.replace('a', ' '))  \n",
    "                elif word == 'Z':\n",
    "                    f2.write(word.replace('Z', ' '))   \n",
    "                elif word == 'Z':\n",
    "                    f2.write(word.replace('X', ' '))   \n",
    "                elif word == 'T':\n",
    "                    f2.write(word.replace('T', ' '))  \n",
    "                elif word == 'Y':\n",
    "                    f2.write(word.replace('Y', ' ')) \n",
    "                elif word == 'X':\n",
    "                    f2.write(word.replace('X', ' '))     \n",
    "                else:\n",
    "                    f2.write(word)\n",
    "     f1.close()\n",
    "     f2.close()\n",
    "              \n",
    "     station = pd.read_csv('./tmp.txt', delim_whitespace=True, skiprows = range(0, 1))\n",
    "       \n",
    "     station.columns = ['Annee', 'Mois', 'D1','D2','D3','D4','D5','D6','D7','D8','D9','D10',\n",
    "                                      'D11','D12','D13','D14','D15','D16','D17','D18','D19','D20',\n",
    "                                      'D21','D22','D23','D24','D25','D26','D27','D28','D29','D30','D31']\n",
    "         \n",
    "     os.remove(\"./tmp.txt\")\n",
    "       \n",
    "       # nettoyage des valeurs manquantes \n",
    "     try:  \n",
    "           station = station.replace({'E':''}, regex=True)\n",
    "     except:\n",
    "           pass\n",
    "     try: \n",
    "           station = station.replace({'a':''}, regex=True)\n",
    "     except:\n",
    "           pass\n",
    "     try:     \n",
    "           station = station.replace({'-9999.9':''}, regex=True)\n",
    "     except:\n",
    "           pass\n",
    "     try:     \n",
    "           station = station.replace({'-9999.99':''}, regex=True)\n",
    "     except:\n",
    "           pass   \n",
    "     try:     \n",
    "           station = station.replace({-9999.9:''}, regex=True)\n",
    "     except:\n",
    "           pass \n",
    "     try:     \n",
    "           station = station.replace({-9999.99:''}, regex=True)\n",
    "     except:\n",
    "           pass    \n",
    "           \n",
    "     for col in  station.columns[2:]:\n",
    "           station[col] = pd.to_numeric(station[col], errors='coerce')\n",
    "           \n",
    "     m_start =  station['Mois'].loc[(station['Annee'] == yeari)].min()\n",
    "     m_end   =  station['Mois'].loc[(station['Annee'] == yearf)].max()\n",
    "       \n",
    "     d_end = calendar.monthrange(yearf, m_end)[1]\n",
    "       \n",
    "    ####################################Extraction des données quotidiennes  et ajout d'une colonne Date      \n",
    "     tmp_tmin = [ ] \n",
    "     for year in range(yeari, yearf+1):    ### Boucle sur les annees\n",
    "           for month in range(1,13):\n",
    "               df = []\n",
    "               last_day = calendar.monthrange(year, month)[1] \n",
    "               tmin = station.loc[(station[\"Annee\"] == year) & (station[\"Mois\"] == month)].iloc[:,2:last_day+2].values\n",
    "               \n",
    "               if len(tmin) == 0:\n",
    "                   a = np.empty((calendar.monthrange(year,month)[1]))\n",
    "                   a[:] = np.nan\n",
    "                   df=pd.DataFrame(a)\n",
    "               else:\n",
    "                   df=pd.DataFrame(tmin.T)\n",
    "                   \n",
    "               start = date(year, month, 1)\n",
    "               end =   date(year, month, last_day)\n",
    "               delta=(end-start) \n",
    "               nb_days = delta.days + 1 \n",
    "               rng = pd.date_range(start, periods=nb_days, freq='D')          \n",
    "               df['datetime'] = rng\n",
    "               df.index = df['datetime']\n",
    "               tmp_tmin.append(df)\n",
    "               \n",
    "     tmp_tmin = pd.concat(tmp_tmin) \n",
    "     df = pd.DataFrame({'datetime': tmp_tmin['datetime'], 'variable': tmp_tmin.iloc[:,0]}, columns = ['datetime','variable']) \n",
    "     df.index = df['datetime']\n",
    "     df = df.drop([\"datetime\"], axis=1)\n",
    "     \n",
    "     \n",
    "     return df, df_station"
   ]
  },
  {
   "cell_type": "markdown",
   "metadata": {},
   "source": [
    "La fonction suivante permet de cartographier les points de grilles qui seront extraits."
   ]
  },
  {
   "cell_type": "code",
   "execution_count": 97,
   "metadata": {},
   "outputs": [],
   "source": [
    "def plot_closed_points(*args):\n",
    "    import cartopy.crs as ccrs\n",
    "    import cartopy.feature as cfeature\n",
    "    import matplotlib.pylab as plt\n",
    "    import numpy as np  \n",
    "  \n",
    "    lats = args[0]\n",
    "    lons = args[1]  \n",
    "    names = args[2]\n",
    "    var = args[3]\n",
    "    colors=['black','red','blue', 'green']\n",
    "    \n",
    "    fig = plt.figure(figsize=(28,16))   \n",
    "    ax = plt.axes(projection=ccrs.PlateCarree())    \n",
    "    ax.set_extent((lons[0] - 3, lons[0] + 3, lats[0] - 3, lats[0] + 3)) \n",
    "       \n",
    "    ax.add_feature(cfeature.OCEAN.with_scale('50m'))      # couche ocean\n",
    "    ax.add_feature(cfeature.LAND.with_scale('50m'))       # couche land\n",
    "    ax.add_feature(cfeature.LAKES.with_scale('50m'))      # couche lac\n",
    "    \n",
    "    ax.add_feature(cfeature.BORDERS.with_scale('50m'))    # couche frontieres\n",
    "    ax.add_feature(cfeature.RIVERS.with_scale('50m'))     # couche rivières      \n",
    "    coast = cfeature.NaturalEarthFeature(category='physical', scale='10m',     # ajout de la couche cotière \n",
    "                        facecolor='none', name='coastline')\n",
    "    ax.add_feature(coast, edgecolor='black')\n",
    "    states_provinces = cfeature.NaturalEarthFeature(\n",
    "        category='cultural',\n",
    "        name='admin_1_states_provinces_lines',\n",
    "        scale='10m',\n",
    "        facecolor='none')\n",
    "    \n",
    "    ax.add_feature(states_provinces, edgecolor='gray')     \n",
    "    ax.gridlines() \n",
    "    i = 0     \n",
    "    for name in names:         \n",
    "        ax.scatter(lons[i], lats[i], c= colors[i], s=100, label=name)\n",
    "        print(lats[i])\n",
    "        print(lons[i])\n",
    "        i += 1       \n",
    "    plt.legend(loc=\"best\", markerscale=1., scatterpoints=1, fontsize=40)              \n",
    "    # Define gridline locations and draw the lines using cartopy's built-in gridliner:\n",
    "    xticks = np.arange(-150.0,-40.0,20)\n",
    "    yticks =np.arange(10,80,10)     \n",
    "    fig.canvas.draw()  \n",
    "    \n",
    "    plt.savefig('./Localisation_site_'+str(var)+ '_' + grids_name[1].split()[2] + '.png', bbox_inches='tight', pad_inches=0.1)\n",
    "    plt.show()  \n",
    "    plt.close()"
   ]
  },
  {
   "cell_type": "markdown",
   "metadata": {},
   "source": [
    "On va chercher les données de la station la plus proche du point: 45.12 N, -72.98 W et couvrant les années 2018 - 2019. "
   ]
  },
  {
   "cell_type": "code",
   "execution_count": 98,
   "metadata": {},
   "outputs": [
    {
     "name": "stdout",
     "output_type": "stream",
     "text": [
      "79\n",
      "####################\n",
      "La station suivant sera extraire: \n",
      "48.14\n",
      "-78.125\n",
      "48.05638888888889\n",
      "-77.78666666666666\n"
     ]
    },
    {
     "data": {
      "image/png": "[encoded data removed]",
      "text/plain": [
       "<Figure size 2016x1152 with 1 Axes>"
      ]
     },
     "metadata": {
      "needs_background": "light"
     },
     "output_type": "display_data"
    }
   ],
   "source": [
    "import numpy as np\n",
    "import pandas as pd\n",
    "import datetime\n",
    "from datetime import date, timedelta\n",
    "# Données de la station la plus proche: on veut \n",
    "yeari= 2010\n",
    "monthi=1\n",
    "yearf = 2017\n",
    "monthf = 12\n",
    "lati = 48.14\n",
    "loni = -78.125\n",
    "\n",
    "dataFrame_STATION, df_station = get_closed_station_precip(lati, loni, yeari, yearf)\n",
    "\n",
    "print(\"####################\")\n",
    "print(\"La station suivant sera extraire: \")\n",
    "df_station\n",
    "\n",
    "lat_s = float(df_station.iloc[7].values)\n",
    "lon_s = float(df_station.iloc[8].values)\n",
    "dataFrame_STATION = dataFrame_STATION.loc[:,'variable'] \n",
    "\n",
    "grids_lat = []\n",
    "grids_lon = []\n",
    "grids_name = []\n",
    "grids_lat.append(lati)\n",
    "grids_lat.append(lat_s)\n",
    "\n",
    "grids_lon.append(loni)\n",
    "grids_lon.append(lon_s)\n",
    "\n",
    "grids_name.append('Point de référence')\n",
    "grids_name.append('Station ECCC: ' + df_station.iloc[1,0] )\n",
    "plot_closed_points(grids_lat, grids_lon, grids_name, 'Precipitation')"
   ]
  },
  {
   "cell_type": "code",
   "execution_count": 99,
   "metadata": {},
   "outputs": [
    {
     "data": {
      "text/html": [
       "<div>\n",
       "<style scoped>\n",
       "    .dataframe tbody tr th:only-of-type {\n",
       "        vertical-align: middle;\n",
       "    }\n",
       "\n",
       "    .dataframe tbody tr th {\n",
       "        vertical-align: top;\n",
       "    }\n",
       "\n",
       "    .dataframe thead th {\n",
       "        text-align: right;\n",
       "    }\n",
       "</style>\n",
       "<table border=\"1\" class=\"dataframe\">\n",
       "  <thead>\n",
       "    <tr style=\"text-align: right;\">\n",
       "      <th></th>\n",
       "      <th>79</th>\n",
       "    </tr>\n",
       "  </thead>\n",
       "  <tbody>\n",
       "    <tr>\n",
       "      <th>Prov</th>\n",
       "      <td>QC</td>\n",
       "    </tr>\n",
       "    <tr>\n",
       "      <th>nom de la station</th>\n",
       "      <td>VAL-D'OR</td>\n",
       "    </tr>\n",
       "    <tr>\n",
       "      <th>stnid</th>\n",
       "      <td>7098600</td>\n",
       "    </tr>\n",
       "    <tr>\n",
       "      <th>année déb.</th>\n",
       "      <td>1952</td>\n",
       "    </tr>\n",
       "    <tr>\n",
       "      <th>mois déb.</th>\n",
       "      <td>1</td>\n",
       "    </tr>\n",
       "    <tr>\n",
       "      <th>année fin.</th>\n",
       "      <td>2017</td>\n",
       "    </tr>\n",
       "    <tr>\n",
       "      <th>mois fin.</th>\n",
       "      <td>12</td>\n",
       "    </tr>\n",
       "    <tr>\n",
       "      <th>lat (deg)</th>\n",
       "      <td>48.0564</td>\n",
       "    </tr>\n",
       "    <tr>\n",
       "      <th>long (deg)</th>\n",
       "      <td>-77.7867</td>\n",
       "    </tr>\n",
       "    <tr>\n",
       "      <th>élév (m)</th>\n",
       "      <td>337</td>\n",
       "    </tr>\n",
       "    <tr>\n",
       "      <th>stns jointes</th>\n",
       "      <td>No</td>\n",
       "    </tr>\n",
       "  </tbody>\n",
       "</table>\n",
       "</div>"
      ],
      "text/plain": [
       "                                     79\n",
       "Prov                                 QC\n",
       "nom de la station             VAL-D'OR \n",
       "stnid              7098600             \n",
       "année déb.                         1952\n",
       "mois déb.                             1\n",
       "année fin.                         2017\n",
       "mois fin.                            12\n",
       "lat (deg)                       48.0564\n",
       "long (deg)                     -77.7867\n",
       "élév (m)                            337\n",
       "stns jointes                         No"
      ]
     },
     "execution_count": 99,
     "metadata": {},
     "output_type": "execute_result"
    }
   ],
   "source": [
    "df_station\n"
   ]
  },
  {
   "cell_type": "code",
   "execution_count": 111,
   "metadata": {},
   "outputs": [
    {
     "data": {
      "text/plain": [
       "datetime\n",
       "2010-01-01     4.76\n",
       "2010-01-02     1.74\n",
       "2010-01-03     2.16\n",
       "2010-01-04     1.81\n",
       "2010-01-05     0.76\n",
       "2010-01-06     1.69\n",
       "2010-01-07     0.46\n",
       "2010-01-08     0.46\n",
       "2010-01-09     0.00\n",
       "2010-01-10     0.93\n",
       "2010-01-11     0.23\n",
       "2010-01-12     0.93\n",
       "2010-01-13     0.55\n",
       "2010-01-14     1.65\n",
       "2010-01-15     0.81\n",
       "2010-01-16     5.80\n",
       "2010-01-17     0.51\n",
       "2010-01-18     2.16\n",
       "2010-01-19     2.55\n",
       "2010-01-20     0.23\n",
       "2010-01-21     0.21\n",
       "2010-01-22     0.21\n",
       "2010-01-23     0.00\n",
       "2010-01-24     4.42\n",
       "2010-01-25    18.27\n",
       "2010-01-26     0.21\n",
       "2010-01-27     6.03\n",
       "2010-01-28     1.16\n",
       "2010-01-29     0.21\n",
       "2010-01-30     1.62\n",
       "              ...  \n",
       "2017-12-02     3.10\n",
       "2017-12-03     0.46\n",
       "2017-12-04    21.92\n",
       "2017-12-05    12.53\n",
       "2017-12-06     3.25\n",
       "2017-12-07     1.86\n",
       "2017-12-08    16.24\n",
       "2017-12-09    16.24\n",
       "2017-12-10     0.00\n",
       "2017-12-11     3.02\n",
       "2017-12-12     0.00\n",
       "2017-12-13     0.46\n",
       "2017-12-14     0.23\n",
       "2017-12-15     2.55\n",
       "2017-12-16     0.00\n",
       "2017-12-17     0.00\n",
       "2017-12-18     3.06\n",
       "2017-12-19    10.67\n",
       "2017-12-20     1.16\n",
       "2017-12-21     0.00\n",
       "2017-12-22     0.93\n",
       "2017-12-23     1.16\n",
       "2017-12-24     1.86\n",
       "2017-12-25     4.18\n",
       "2017-12-26     0.00\n",
       "2017-12-27     0.93\n",
       "2017-12-28     0.46\n",
       "2017-12-29     0.70\n",
       "2017-12-30     0.00\n",
       "2017-12-31     0.00\n",
       "Name: variable, Length: 2922, dtype: float64"
      ]
     },
     "execution_count": 111,
     "metadata": {},
     "output_type": "execute_result"
    }
   ],
   "source": [
    "dataFrame_STATION = dataFrame_STATION.replace(-9999.99, 0)\n",
    "dataFrame_STATION"
   ]
  },
  {
   "cell_type": "code",
   "execution_count": 112,
   "metadata": {},
   "outputs": [
    {
     "name": "stderr",
     "output_type": "stream",
     "text": [
      "D:\\Utilisateurs\\guillaume\\Anaconda3\\lib\\site-packages\\ipykernel_launcher.py:1: FutureWarning: The signature of `Series.to_csv` was aligned to that of `DataFrame.to_csv`, and argument 'header' will change its default value from False to True: please pass an explicit value to suppress this warning.\n",
      "  \"\"\"Entry point for launching an IPython kernel.\n"
     ]
    }
   ],
   "source": [
    "dataFrame_STATION.to_csv('./'+grids_name[1].split()[2] + '_daily_prcp_' + str(yeari) + '_' + str(yearf) +'.csv', na_rep='NULL') "
   ]
  },
  {
   "cell_type": "code",
   "execution_count": 115,
   "metadata": {},
   "outputs": [
    {
     "data": {
      "text/plain": [
       "<matplotlib.axes._subplots.AxesSubplot at 0xc49a7b8>"
      ]
     },
     "execution_count": 115,
     "metadata": {},
     "output_type": "execute_result"
    },
    {
     "data": {
      "image/png": "[encoded data removed]",
      "text/plain": [
       "<Figure size 432x288 with 1 Axes>"
      ]
     },
     "metadata": {
      "needs_background": "light"
     },
     "output_type": "display_data"
    }
   ],
   "source": [
    "dataFrame_STATION.plot()"
   ]
  },
  {
   "cell_type": "code",
   "execution_count": null,
   "metadata": {},
   "outputs": [],
   "source": []
  }
 ],
 "metadata": {
  "kernelspec": {
   "display_name": "Python 3",
   "language": "python",
   "name": "python3"
  },
  "language_info": {
   "codemirror_mode": {
    "name": "ipython",
    "version": 3
   },
   "file_extension": ".py",
   "mimetype": "text/x-python",
   "name": "python",
   "nbconvert_exporter": "python",
   "pygments_lexer": "ipython3",
   "version": "3.7.3"
  }
 },
 "nbformat": 4,
 "nbformat_minor": 2
}
